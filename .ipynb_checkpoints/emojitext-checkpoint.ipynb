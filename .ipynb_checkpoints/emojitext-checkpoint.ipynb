{
 "cells": [
  {
   "cell_type": "code",
   "execution_count": 1,
   "id": "d6bb3aee",
   "metadata": {},
   "outputs": [],
   "source": [
    "from pilmoji import Pilmoji\n",
    "from PIL import Image, ImageDraw, ImageFont\n",
    "import textwrap\n",
    "import moviepy\n",
    "import moviepy.editor as mp"
   ]
  },
  {
   "cell_type": "code",
   "execution_count": 2,
   "id": "4c02b82b",
   "metadata": {},
   "outputs": [
    {
     "name": "stdout",
     "output_type": "stream",
     "text": [
      "Hello 👋 Here are\n",
      "some emojis: which\n",
      "are very cool for\n",
      "now\n"
     ]
    }
   ],
   "source": [
    "def divideAndJoinText(s, n):\n",
    "    i = 0\n",
    "    result = []\n",
    "    s = s.strip()\n",
    "    lenght = len(s)\n",
    "    endReached = 0\n",
    "    while i < lenght and endReached==0:\n",
    "        start = i\n",
    "        end = i+n\n",
    "        if end > lenght:\n",
    "            end = lenght\n",
    "        str = s[start:end]\n",
    "        \n",
    "        #print('i: ',i, ' i+n:', i+n, ' lenght:',lenght, 'start: ',start,' end: ',end, ' str: ',str)\n",
    "        if end != lenght: \n",
    "            lastIndex = i + str.rindex(' ')\n",
    "            #print('lastIndex: ',lastIndex)\n",
    "            if lastIndex < end :\n",
    "                end = lastIndex\n",
    "                str = s[start:end]\n",
    "            \n",
    "\n",
    "        #print('str : ',str)\n",
    "        #print('end: ',end)\n",
    "        result.append(str.strip())\n",
    "        i = end\n",
    "        if end >= lenght:\n",
    "            endReached = 1\n",
    "        #print(i)\n",
    "        #if i>40:\n",
    "            #break\n",
    "    #print('\\n'.join(result))\n",
    "    return '\\n'.join(result)\n",
    "print(divideAndJoinText(\"Hello 👋 Here are some emojis: which are very cool for now\", 20))\n"
   ]
  },
  {
   "cell_type": "code",
   "execution_count": null,
   "id": "8c7a3057",
   "metadata": {},
   "outputs": [
    {
     "name": "stdout",
     "output_type": "stream",
     "text": [
      "Hello 👋 Here are some emojis: \n",
      "which are very cool for now  🎨 🌊 😎  \t😄 \n",
      "I also support Discord emoji: <:rooThink:596576798351949847>\n",
      "Moviepy - Building video /Users/adda247/Downloads/test.mp4.\n",
      "MoviePy - Writing audio in testTEMP_MPY_wvf_snd.mp3\n"
     ]
    },
    {
     "name": "stderr",
     "output_type": "stream",
     "text": [
      "                                                                                                                                                                                                                      \r"
     ]
    },
    {
     "name": "stdout",
     "output_type": "stream",
     "text": [
      "MoviePy - Done.\n",
      "Moviepy - Writing video /Users/adda247/Downloads/test.mp4\n",
      "\n"
     ]
    },
    {
     "name": "stderr",
     "output_type": "stream",
     "text": [
      "t:  85%|█████████████████████████████████████████████████████████████████████████████████████████████████████████████████████████████████████████▎                        | 294/347 [00:07<00:01, 46.54it/s, now=None]"
     ]
    }
   ],
   "source": [
    "my_string = 'Hello 👋 Here are some emojis: \\nwhich are very cool for now  🎨 🌊 😎  \t😄 \\nI also support Discord emoji: <:rooThink:596576798351949847>'\n",
    "\n",
    "#my_string = divideAndJoinText(my_string, 20)\n",
    "print(my_string)\n",
    "breaks = my_string.count('\\n')\n",
    "imgHeight = 70*(breaks+1)\n",
    "imgHeight = imgHeight * my_string.count('\\n')\n",
    "with Image.new('RGBA', (980, imgHeight), (0, 255, 255,90)) as image:\n",
    "    font = ImageFont.truetype('/Users/adda247/Downloads/arial/arial.ttf', 80)\n",
    "\n",
    "    with Pilmoji(image) as pilmoji:\n",
    "        pilmoji.text((20, 50), my_string.strip(), 'white', font)\n",
    "\n",
    "    image.save('/Users/adda247/Downloads/img.png', 'PNG')\n",
    "    image.show()\n",
    "\n",
    "video = mp.VideoFileClip(\"/Users/adda247/Downloads/pexels-taryn-elliott-8526536.mp4\")\n",
    "title = mp.ImageClip('/Users/adda247/Downloads/img.png').set_start(0).set_duration(7).set_pos((\"center\",\"center\"))\n",
    "          #.resize(height=50) # if you need to resize...\n",
    "          \n",
    "\n",
    "final = mp.CompositeVideoClip([video, title])\n",
    "final.write_videofile(\"/Users/adda247/Downloads/test.mp4\")"
   ]
  },
  {
   "cell_type": "code",
   "execution_count": null,
   "id": "a86ef918",
   "metadata": {},
   "outputs": [],
   "source": [
    "def get_offset_for_true_mm(text, draw, font):\n",
    "    anchor_bbox = draw.textbbox((0, 0), text, font=font, anchor='lt')\n",
    "    anchor_center = (anchor_bbox[0] + anchor_bbox[2]) // 2, (anchor_bbox[1] + anchor_bbox[3]) // 2\n",
    "    mask_bbox = font.getmask(text).getbbox()\n",
    "    mask_center = (mask_bbox[0] + mask_bbox[2]) // 2, (mask_bbox[1] + mask_bbox[3]) // 2\n",
    "    return anchor_center[0] - mask_center[0], anchor_center[1] - mask_center[1]\n"
   ]
  },
  {
   "cell_type": "code",
   "execution_count": null,
   "id": "65ff509e",
   "metadata": {},
   "outputs": [],
   "source": [
    "text  = '''\n",
    "Hello 👋 Here are some emojis: \\n Here are some emojis \\n\\nHere are some emojis \\n\\n \n",
    "kisi aur se dhokha khaane se acha hai,  \\nMere saath chalo momos aur Golgappe khayeinge. \\n\\n:) :) 😀 \\U0001f600\n",
    "'''\n",
    "fnt ='/Users/adda247/Downloads/arial/arial.ttf'\n",
    "\n",
    "\n",
    "im = Image.new(\"RGB\", (1080, 1920), (0,0,0, 230))\n",
    "box = ((0, 0, 1080, 1920))\n",
    "draw = ImageDraw.Draw(im)\n",
    "draw.rectangle(box, outline=\"#000\")\n",
    "\n",
    "font_size = 100\n",
    "size = None\n",
    "while (size is None or size[0] > box[2] - box[0] or size[1] > box[3] - box[1]) and font_size > 0:\n",
    "\tfont = ImageFont.truetype(fnt, font_size)\n",
    "\tsize = font.getsize_multiline(text)\n",
    "\tfont_size -= 1\n",
    "draw.multiline_text((box[0], box[1]), text, \"white\", font)\n",
    "im=im.convert(\"RGBA\")\n",
    "im.save('/Users/adda247/Downloads/img.png', 'PNG')\n",
    "im.show()"
   ]
  },
  {
   "cell_type": "code",
   "execution_count": null,
   "id": "0ff40b21",
   "metadata": {},
   "outputs": [],
   "source": [
    "def draw_multiple_line_text(image, text, font, text_color, text_start_height):\n",
    "    '''\n",
    "    From unutbu on [python PIL draw multiline text on image](https://stackoverflow.com/a/7698300/395857)\n",
    "    '''\n",
    "    draw = ImageDraw.Draw(image)\n",
    "    image_width, image_height = image.size\n",
    "    y_text = text_start_height\n",
    "    lines = textwrap.wrap(text, width=40)\n",
    "    for line in lines:\n",
    "        line_width, line_height = font.getsize(line)\n",
    "        draw.text(((image_width - line_width) / 2, y_text), \n",
    "                  line, font=font, embedded_color=True, fill=text_color)\n",
    "        y_text += line_height"
   ]
  },
  {
   "cell_type": "code",
   "execution_count": null,
   "id": "7e891b9f",
   "metadata": {},
   "outputs": [],
   "source": [
    "#image_width\n",
    "#https://holypython.com/python-pil-tutorial/how-to-add-text-to-images-in-python-via-pil-library/\n",
    "image = Image.new('RGBA', (810, 1440), (0,0,0,0))\n",
    "\n",
    "fontsize = 40  # starting font size\n",
    "font = ImageFont.truetype(\"/Users/adda247/Downloads/arial/arial.ttf\", fontsize)\n",
    "fontEmoji = ImageFont.truetype(\"/Users/adda247/Downloads/seguiemj.ttf\", 100)\n",
    "fontHindi = ImageFont.truetype(\"/Users/adda247/Downloads/MangalRegular.ttf\", fontsize)\n",
    "\n",
    "text1 = \"I a\\u263A \\u263b \\U0001F3AC\\U0001F44B\\U0001F3FB try to add text at the bottom of image and actually I've done it, \\n but in case of my text is longer then image width it is cut from both sides, to simplify I would like text to be in multiple lines if it is longer than image width.\"\n",
    "text2 = \"😘 \\U0001F3AC\\U0001F44B\\U0001F3FB\\U0001F44B\\U0001F3FF You could use textwrap.wrap to break text into a list of strings, each at most width characters long\"\n",
    "text3 = \"\\u263A \\u263A \\u263A \\u263b\"\n",
    "text4 = \"किसी और से धोखा खाने से अच्छा है मेरे साथ चलो मोमोस और गोलगप्पे खाएंगे\"\n",
    "\n",
    "text_color = (200, 200, 200)\n",
    "text_start_height = 0\n",
    "draw_multiple_line_text(image, text1, font, text_color, text_start_height)\n",
    "draw_multiple_line_text(image, text2, font, text_color, 400)\n",
    "draw_multiple_line_text(image, text3, fontEmoji, \"#127996\", 700)\n",
    "draw_multiple_line_text(image, text4, fontHindi, \"#127996\", 900)\n",
    "\n",
    "image.save('/Users/adda247/Downloads/img.png', 'PNG')\n",
    "image.show()\n",
    "\n",
    "video = mp.VideoFileClip(\"/Users/adda247/Downloads/pexels-taryn-elliott-8526536.mp4\")\n",
    "title = mp.ImageClip('/Users/adda247/Downloads/img.png').set_start(3).set_duration(7).set_pos((\"center\",\"center\"))\n",
    "          #.resize(height=50) # if you need to resize...\n",
    "          \n",
    "\n",
    "final = mp.CompositeVideoClip([video, title])\n",
    "final.write_videofile(\"/Users/adda247/Downloads/test.mp4\")"
   ]
  },
  {
   "cell_type": "code",
   "execution_count": null,
   "id": "ef602f5f",
   "metadata": {},
   "outputs": [],
   "source": [
    "#image_width\n",
    "#https://holypython.com/python-pil-tutorial/how-to-add-text-to-images-in-python-via-pil-library/\n",
    "image = Image.new('RGBA', (810, 100), (0,0,0,0))\n",
    "\n",
    "fontEmoji = ImageFont.truetype(\"/Users/adda247/Downloads/NotoColorEmoji-Regular.ttf\", 100)\n",
    "\n",
    "text3 = \"\\u263A \\u263A \\u263A \\u263b \\u1F607 text\"\n",
    "\n",
    "draw_multiple_line_text(image, text3, fontEmoji, \"white\", 10)\n",
    "\n",
    "image.save('/Users/adda247/Downloads/img.png', 'PNG')\n",
    "image.show()\n",
    "\n"
   ]
  },
  {
   "cell_type": "code",
   "execution_count": null,
   "id": "9c3e4119",
   "metadata": {},
   "outputs": [],
   "source": []
  }
 ],
 "metadata": {
  "kernelspec": {
   "display_name": "Python 3 (ipykernel)",
   "language": "python",
   "name": "python3"
  },
  "language_info": {
   "codemirror_mode": {
    "name": "ipython",
    "version": 3
   },
   "file_extension": ".py",
   "mimetype": "text/x-python",
   "name": "python",
   "nbconvert_exporter": "python",
   "pygments_lexer": "ipython3",
   "version": "3.8.9"
  }
 },
 "nbformat": 4,
 "nbformat_minor": 5
}
